{
  "cells": [
    {
      "cell_type": "markdown",
      "id": "whole-female",
      "metadata": {
        "id": "whole-female"
      },
      "source": [
        "# Homework 7 - Classification\n",
        "In this assignment, we will be applying some basic classification methods to the soccer database (found on canvas). We will first need to import all the libraries required for this guide.\n",
        "\n",
        "## Instructions\n",
        "In this assignment, you will be performing the specified classification methods in Python.\n",
        "\n",
        "---\n",
        "\n",
        "### Step 1: Load Data\n",
        "\n",
        "- Load the following attributes from `Player_Attributes`:\n",
        "  - `gk_reflexes`\n",
        "  - `gk_kicking`\n",
        "  - `gk_handling`\n",
        "\n",
        "These values will be used for classification.\n",
        "\n",
        "---\n",
        "\n",
        "### Step 2: Classification (Part 1)\n",
        "\n",
        "- Use `gk_reflexes` and `gk_kicking`.\n",
        "- Choose one of the attributes as the **target attribute**.\n",
        "- Generate **five classes** in the target property by reducing the range of values in the target data.\n",
        "- Split the data into **training** and **testing** sets.\n",
        "- Apply the following methods and print the resulting `accuracy_score` from `sklearn.metrics`:\n",
        "  - Logistic Regression\n",
        "  - Support Vector Machine (SVM)\n",
        "  - Decision Tree\n",
        "  - K-Nearest Neighbors (KNN)\n",
        "\n",
        "---\n",
        "\n",
        "### Step 3: Classification (Part 2)\n",
        "\n",
        "- Repeat **Step 2**, this time using:\n",
        "  - `gk_kicking` and `gk_handling`\n",
        "\n",
        "- Again, print the corresponding `accuracy_score` for each classification method.\n",
        "\n",
        "---\n",
        "\n",
        "### Step 4: Analysis (Comment in Python file)\n",
        "\n",
        "Answer the following question as a **comment** in your Python file:\n",
        "\n",
        "> Since this assignment (Classification) and the previous assignment (Regression) are with the same data, can you compare and conclude which technique is yielding best results?\n",
        "\n",
        "---\n",
        "\n",
        "### Dataset Overview\n",
        "The dataset covers information about soccer players in sqlite format. This file is located in the `Datasets` directory of this repository. The file is called `fifa_soccer_dataset.sqlite.gz`. **This is the same file from the previous homework (assignment 4).**\n",
        "\n",
        "If you haven't decompressed the file, you may need to follow the instructions below to decompress it.\n",
        "\n",
        "**IMPORTANT** The database is compressed and needs to be decompressed before use. You can do this by running the following command in your terminal on Linux or MacOS:\n",
        "\n",
        "```bash\n",
        "gunzip Datasets/fifa_soccer_dataset.sqlite.gz\n",
        "```\n",
        "\n",
        "If you are using Windows, you can use the following command in your powershell:\n",
        "\n",
        "```powershell\n",
        "$sourceFile = \"$PWD\\Datasets\\fifa_soccer_dataset.sqlite.gz\"\n",
        "$destinationFile = \"$PWD\\Datasets\\fifa_soccer_dataset.sqlite\"\n",
        "\n",
        "$inputStream = [System.IO.File]::OpenRead($sourceFile)\n",
        "$outputStream = [System.IO.File]::Create($destinationFile)\n",
        "$gzipStream = New-Object System.IO.Compression.GzipStream($inputStream, [System.IO.Compression.CompressionMode]::Decompress)\n",
        "$gzipStream.CopyTo($outputStream)\n",
        "\n",
        "$gzipStream.Close()\n",
        "$outputStream.Close()\n",
        "$inputStream.Close()\n",
        "```\n",
        "\n",
        "Alternatively, you can extract the file using the GUI of your operating system.\n",
        "\n",
        "\n",
        "### Submission Guidelines\n",
        "\n",
        "- Submit your completed notebook as a HTML export, or a PDF file.\n",
        "\n",
        "To export to HTML, if you are on Jupyter, select `File` > `Export Notebook As` > `HTML`.\n",
        "\n",
        "If you are on VSCode, you can use the `Jupyter: Export to HTML` command.\n",
        " - Open the command palette (Ctrl+Shift+P or Cmd+Shift+P on Mac).\n",
        "     - Search for `Jupyter: Export to HTML`.\n",
        "     - Save the HTML file to your computer and submit it via Canvas.\n",
        "\n",
        "---\n"
      ]
    },
    {
      "cell_type": "code",
      "execution_count": 2,
      "id": "committed-enzyme",
      "metadata": {
        "id": "committed-enzyme"
      },
      "outputs": [],
      "source": [
        "import pandas as pd\n",
        "import sqlite3\n",
        "from sklearn.model_selection import train_test_split\n",
        "from sklearn.preprocessing import StandardScaler\n",
        "from sklearn.linear_model import LogisticRegression\n",
        "from sklearn.metrics import accuracy_score\n",
        "from sklearn.svm import SVC\n",
        "from sklearn.neighbors import KNeighborsClassifier"
      ]
    },
    {
      "cell_type": "markdown",
      "id": "advisory-abortion",
      "metadata": {
        "id": "advisory-abortion"
      },
      "source": [
        "To start this assignment, we first need to connect to the sqlite database, do so below."
      ]
    },
    {
      "cell_type": "code",
      "execution_count": 3,
      "id": "binding-chorus",
      "metadata": {
        "id": "binding-chorus"
      },
      "outputs": [],
      "source": [
        "# Input Code Here\n",
        "dataset_path = \"fifa_soccer_dataset.sqlite\" # Fix your path accordingly\n",
        "\n",
        "# Connect to the SQLite database\n",
        "conn = sqlite3.connect(dataset_path)\n",
        "\n",
        "# Query to fetch the required attributes: gk_reflexes, gk_kicking, and gk_handling\n",
        "query = \"SELECT gk_reflexes, gk_kicking, gk_handling FROM Player_Attributes\""
      ]
    },
    {
      "cell_type": "markdown",
      "id": "naked-lawyer",
      "metadata": {
        "id": "naked-lawyer"
      },
      "source": [
        "Now connected, let's grab required attributes for the scenario from the `Player_Attributes`(Using gk_reflexes and gk_kicking) table."
      ]
    },
    {
      "cell_type": "code",
      "execution_count": 4,
      "id": "terminal-college",
      "metadata": {
        "colab": {
          "base_uri": "https://localhost:8080/",
          "height": 206
        },
        "id": "terminal-college",
        "outputId": "9c250515-1ade-41da-f22d-68577451630c"
      },
      "outputs": [
        {
          "output_type": "execute_result",
          "data": {
            "text/plain": [
              "   gk_reflexes  gk_kicking  gk_handling\n",
              "0          8.0        10.0         11.0\n",
              "1          8.0        10.0         11.0\n",
              "2          8.0        10.0         11.0\n",
              "3          7.0         9.0         10.0\n",
              "4          7.0         9.0         10.0"
            ],
            "text/html": [
              "\n",
              "  <div id=\"df-47ff7c83-65b5-4b6e-9ccf-293a9011ef10\" class=\"colab-df-container\">\n",
              "    <div>\n",
              "<style scoped>\n",
              "    .dataframe tbody tr th:only-of-type {\n",
              "        vertical-align: middle;\n",
              "    }\n",
              "\n",
              "    .dataframe tbody tr th {\n",
              "        vertical-align: top;\n",
              "    }\n",
              "\n",
              "    .dataframe thead th {\n",
              "        text-align: right;\n",
              "    }\n",
              "</style>\n",
              "<table border=\"1\" class=\"dataframe\">\n",
              "  <thead>\n",
              "    <tr style=\"text-align: right;\">\n",
              "      <th></th>\n",
              "      <th>gk_reflexes</th>\n",
              "      <th>gk_kicking</th>\n",
              "      <th>gk_handling</th>\n",
              "    </tr>\n",
              "  </thead>\n",
              "  <tbody>\n",
              "    <tr>\n",
              "      <th>0</th>\n",
              "      <td>8.0</td>\n",
              "      <td>10.0</td>\n",
              "      <td>11.0</td>\n",
              "    </tr>\n",
              "    <tr>\n",
              "      <th>1</th>\n",
              "      <td>8.0</td>\n",
              "      <td>10.0</td>\n",
              "      <td>11.0</td>\n",
              "    </tr>\n",
              "    <tr>\n",
              "      <th>2</th>\n",
              "      <td>8.0</td>\n",
              "      <td>10.0</td>\n",
              "      <td>11.0</td>\n",
              "    </tr>\n",
              "    <tr>\n",
              "      <th>3</th>\n",
              "      <td>7.0</td>\n",
              "      <td>9.0</td>\n",
              "      <td>10.0</td>\n",
              "    </tr>\n",
              "    <tr>\n",
              "      <th>4</th>\n",
              "      <td>7.0</td>\n",
              "      <td>9.0</td>\n",
              "      <td>10.0</td>\n",
              "    </tr>\n",
              "  </tbody>\n",
              "</table>\n",
              "</div>\n",
              "    <div class=\"colab-df-buttons\">\n",
              "\n",
              "  <div class=\"colab-df-container\">\n",
              "    <button class=\"colab-df-convert\" onclick=\"convertToInteractive('df-47ff7c83-65b5-4b6e-9ccf-293a9011ef10')\"\n",
              "            title=\"Convert this dataframe to an interactive table.\"\n",
              "            style=\"display:none;\">\n",
              "\n",
              "  <svg xmlns=\"http://www.w3.org/2000/svg\" height=\"24px\" viewBox=\"0 -960 960 960\">\n",
              "    <path d=\"M120-120v-720h720v720H120Zm60-500h600v-160H180v160Zm220 220h160v-160H400v160Zm0 220h160v-160H400v160ZM180-400h160v-160H180v160Zm440 0h160v-160H620v160ZM180-180h160v-160H180v160Zm440 0h160v-160H620v160Z\"/>\n",
              "  </svg>\n",
              "    </button>\n",
              "\n",
              "  <style>\n",
              "    .colab-df-container {\n",
              "      display:flex;\n",
              "      gap: 12px;\n",
              "    }\n",
              "\n",
              "    .colab-df-convert {\n",
              "      background-color: #E8F0FE;\n",
              "      border: none;\n",
              "      border-radius: 50%;\n",
              "      cursor: pointer;\n",
              "      display: none;\n",
              "      fill: #1967D2;\n",
              "      height: 32px;\n",
              "      padding: 0 0 0 0;\n",
              "      width: 32px;\n",
              "    }\n",
              "\n",
              "    .colab-df-convert:hover {\n",
              "      background-color: #E2EBFA;\n",
              "      box-shadow: 0px 1px 2px rgba(60, 64, 67, 0.3), 0px 1px 3px 1px rgba(60, 64, 67, 0.15);\n",
              "      fill: #174EA6;\n",
              "    }\n",
              "\n",
              "    .colab-df-buttons div {\n",
              "      margin-bottom: 4px;\n",
              "    }\n",
              "\n",
              "    [theme=dark] .colab-df-convert {\n",
              "      background-color: #3B4455;\n",
              "      fill: #D2E3FC;\n",
              "    }\n",
              "\n",
              "    [theme=dark] .colab-df-convert:hover {\n",
              "      background-color: #434B5C;\n",
              "      box-shadow: 0px 1px 3px 1px rgba(0, 0, 0, 0.15);\n",
              "      filter: drop-shadow(0px 1px 2px rgba(0, 0, 0, 0.3));\n",
              "      fill: #FFFFFF;\n",
              "    }\n",
              "  </style>\n",
              "\n",
              "    <script>\n",
              "      const buttonEl =\n",
              "        document.querySelector('#df-47ff7c83-65b5-4b6e-9ccf-293a9011ef10 button.colab-df-convert');\n",
              "      buttonEl.style.display =\n",
              "        google.colab.kernel.accessAllowed ? 'block' : 'none';\n",
              "\n",
              "      async function convertToInteractive(key) {\n",
              "        const element = document.querySelector('#df-47ff7c83-65b5-4b6e-9ccf-293a9011ef10');\n",
              "        const dataTable =\n",
              "          await google.colab.kernel.invokeFunction('convertToInteractive',\n",
              "                                                    [key], {});\n",
              "        if (!dataTable) return;\n",
              "\n",
              "        const docLinkHtml = 'Like what you see? Visit the ' +\n",
              "          '<a target=\"_blank\" href=https://colab.research.google.com/notebooks/data_table.ipynb>data table notebook</a>'\n",
              "          + ' to learn more about interactive tables.';\n",
              "        element.innerHTML = '';\n",
              "        dataTable['output_type'] = 'display_data';\n",
              "        await google.colab.output.renderOutput(dataTable, element);\n",
              "        const docLink = document.createElement('div');\n",
              "        docLink.innerHTML = docLinkHtml;\n",
              "        element.appendChild(docLink);\n",
              "      }\n",
              "    </script>\n",
              "  </div>\n",
              "\n",
              "\n",
              "<div id=\"df-7e9004a7-f3ec-4f8a-9211-ad18cd3237df\">\n",
              "  <button class=\"colab-df-quickchart\" onclick=\"quickchart('df-7e9004a7-f3ec-4f8a-9211-ad18cd3237df')\"\n",
              "            title=\"Suggest charts\"\n",
              "            style=\"display:none;\">\n",
              "\n",
              "<svg xmlns=\"http://www.w3.org/2000/svg\" height=\"24px\"viewBox=\"0 0 24 24\"\n",
              "     width=\"24px\">\n",
              "    <g>\n",
              "        <path d=\"M19 3H5c-1.1 0-2 .9-2 2v14c0 1.1.9 2 2 2h14c1.1 0 2-.9 2-2V5c0-1.1-.9-2-2-2zM9 17H7v-7h2v7zm4 0h-2V7h2v10zm4 0h-2v-4h2v4z\"/>\n",
              "    </g>\n",
              "</svg>\n",
              "  </button>\n",
              "\n",
              "<style>\n",
              "  .colab-df-quickchart {\n",
              "      --bg-color: #E8F0FE;\n",
              "      --fill-color: #1967D2;\n",
              "      --hover-bg-color: #E2EBFA;\n",
              "      --hover-fill-color: #174EA6;\n",
              "      --disabled-fill-color: #AAA;\n",
              "      --disabled-bg-color: #DDD;\n",
              "  }\n",
              "\n",
              "  [theme=dark] .colab-df-quickchart {\n",
              "      --bg-color: #3B4455;\n",
              "      --fill-color: #D2E3FC;\n",
              "      --hover-bg-color: #434B5C;\n",
              "      --hover-fill-color: #FFFFFF;\n",
              "      --disabled-bg-color: #3B4455;\n",
              "      --disabled-fill-color: #666;\n",
              "  }\n",
              "\n",
              "  .colab-df-quickchart {\n",
              "    background-color: var(--bg-color);\n",
              "    border: none;\n",
              "    border-radius: 50%;\n",
              "    cursor: pointer;\n",
              "    display: none;\n",
              "    fill: var(--fill-color);\n",
              "    height: 32px;\n",
              "    padding: 0;\n",
              "    width: 32px;\n",
              "  }\n",
              "\n",
              "  .colab-df-quickchart:hover {\n",
              "    background-color: var(--hover-bg-color);\n",
              "    box-shadow: 0 1px 2px rgba(60, 64, 67, 0.3), 0 1px 3px 1px rgba(60, 64, 67, 0.15);\n",
              "    fill: var(--button-hover-fill-color);\n",
              "  }\n",
              "\n",
              "  .colab-df-quickchart-complete:disabled,\n",
              "  .colab-df-quickchart-complete:disabled:hover {\n",
              "    background-color: var(--disabled-bg-color);\n",
              "    fill: var(--disabled-fill-color);\n",
              "    box-shadow: none;\n",
              "  }\n",
              "\n",
              "  .colab-df-spinner {\n",
              "    border: 2px solid var(--fill-color);\n",
              "    border-color: transparent;\n",
              "    border-bottom-color: var(--fill-color);\n",
              "    animation:\n",
              "      spin 1s steps(1) infinite;\n",
              "  }\n",
              "\n",
              "  @keyframes spin {\n",
              "    0% {\n",
              "      border-color: transparent;\n",
              "      border-bottom-color: var(--fill-color);\n",
              "      border-left-color: var(--fill-color);\n",
              "    }\n",
              "    20% {\n",
              "      border-color: transparent;\n",
              "      border-left-color: var(--fill-color);\n",
              "      border-top-color: var(--fill-color);\n",
              "    }\n",
              "    30% {\n",
              "      border-color: transparent;\n",
              "      border-left-color: var(--fill-color);\n",
              "      border-top-color: var(--fill-color);\n",
              "      border-right-color: var(--fill-color);\n",
              "    }\n",
              "    40% {\n",
              "      border-color: transparent;\n",
              "      border-right-color: var(--fill-color);\n",
              "      border-top-color: var(--fill-color);\n",
              "    }\n",
              "    60% {\n",
              "      border-color: transparent;\n",
              "      border-right-color: var(--fill-color);\n",
              "    }\n",
              "    80% {\n",
              "      border-color: transparent;\n",
              "      border-right-color: var(--fill-color);\n",
              "      border-bottom-color: var(--fill-color);\n",
              "    }\n",
              "    90% {\n",
              "      border-color: transparent;\n",
              "      border-bottom-color: var(--fill-color);\n",
              "    }\n",
              "  }\n",
              "</style>\n",
              "\n",
              "  <script>\n",
              "    async function quickchart(key) {\n",
              "      const quickchartButtonEl =\n",
              "        document.querySelector('#' + key + ' button');\n",
              "      quickchartButtonEl.disabled = true;  // To prevent multiple clicks.\n",
              "      quickchartButtonEl.classList.add('colab-df-spinner');\n",
              "      try {\n",
              "        const charts = await google.colab.kernel.invokeFunction(\n",
              "            'suggestCharts', [key], {});\n",
              "      } catch (error) {\n",
              "        console.error('Error during call to suggestCharts:', error);\n",
              "      }\n",
              "      quickchartButtonEl.classList.remove('colab-df-spinner');\n",
              "      quickchartButtonEl.classList.add('colab-df-quickchart-complete');\n",
              "    }\n",
              "    (() => {\n",
              "      let quickchartButtonEl =\n",
              "        document.querySelector('#df-7e9004a7-f3ec-4f8a-9211-ad18cd3237df button');\n",
              "      quickchartButtonEl.style.display =\n",
              "        google.colab.kernel.accessAllowed ? 'block' : 'none';\n",
              "    })();\n",
              "  </script>\n",
              "</div>\n",
              "\n",
              "    </div>\n",
              "  </div>\n"
            ],
            "application/vnd.google.colaboratory.intrinsic+json": {
              "type": "dataframe",
              "variable_name": "player_attr_df"
            }
          },
          "metadata": {},
          "execution_count": 4
        }
      ],
      "source": [
        "player_attr_df = pd.read_sql_query(query, conn)\n",
        "player_attr_df.head()"
      ]
    },
    {
      "cell_type": "markdown",
      "id": "08d1060b",
      "metadata": {
        "id": "08d1060b"
      },
      "source": [
        "Droping the rows with are having missing values"
      ]
    },
    {
      "cell_type": "code",
      "execution_count": 5,
      "id": "83ac42b2",
      "metadata": {
        "id": "83ac42b2"
      },
      "outputs": [],
      "source": [
        "# Drop rows with missing values in the selected columns\n",
        "player_attr_df = player_attr_df.dropna(subset=['gk_reflexes', 'gk_kicking', 'gk_handling'])"
      ]
    },
    {
      "cell_type": "markdown",
      "id": "individual-insurance",
      "metadata": {
        "id": "individual-insurance"
      },
      "source": [
        "For this classifying, we'll be using the ` gk_reflexes` and `gk_kicking`. Pull these values into `x` and `y`."
      ]
    },
    {
      "cell_type": "code",
      "execution_count": 7,
      "id": "alternate-appendix",
      "metadata": {
        "id": "alternate-appendix"
      },
      "outputs": [],
      "source": [
        "x = player_attr_df[['gk_kicking']].values # Your Code Here\n",
        "y = player_attr_df[['gk_reflexes']].values # Your Code Here"
      ]
    },
    {
      "cell_type": "markdown",
      "id": "4a87d92f",
      "metadata": {
        "id": "4a87d92f"
      },
      "source": [
        "the target variable should be reduced to just 5 classes."
      ]
    },
    {
      "cell_type": "code",
      "execution_count": 8,
      "id": "4888323e",
      "metadata": {
        "id": "4888323e"
      },
      "outputs": [],
      "source": [
        "y = pd.cut(player_attr_df['gk_reflexes'],\n",
        "           bins=5,\n",
        "           labels=['Class 1', 'Class 2', 'Class 3', 'Class 4', 'Class 5']).values"
      ]
    },
    {
      "cell_type": "markdown",
      "id": "brazilian-attribute",
      "metadata": {
        "id": "brazilian-attribute"
      },
      "source": [
        "Let's split the data set into test and training sets using the `train_test_split()` function. We'll want to transform our `x` variable, which can be done by calling the `transform()` function."
      ]
    },
    {
      "cell_type": "code",
      "execution_count": 11,
      "id": "fancy-geometry",
      "metadata": {
        "id": "fancy-geometry"
      },
      "outputs": [],
      "source": [
        "# (70% train, 30% test)\n",
        "X_train, X_test, y_train, y_test = train_test_split(x, y,\n",
        "                                                    test_size=0.3,\n",
        "                                                    random_state=0)\n",
        "\n",
        "sc = StandardScaler()\n",
        "X_train_std = sc.fit_transform(X_train)\n",
        "X_test_std = sc.transform(X_test)"
      ]
    },
    {
      "cell_type": "markdown",
      "id": "bright-census",
      "metadata": {
        "id": "bright-census"
      },
      "source": [
        "To preform a logistic regression, we'll use the `LogisticRegression()` function. This may take a couple moments to run."
      ]
    },
    {
      "cell_type": "code",
      "execution_count": 12,
      "id": "tribal-option",
      "metadata": {
        "colab": {
          "base_uri": "https://localhost:8080/"
        },
        "id": "tribal-option",
        "outputId": "ea0550e9-d328-4cb3-f5b2-d0f110713e20"
      },
      "outputs": [
        {
          "output_type": "stream",
          "name": "stdout",
          "text": [
            "Accuracy : 0.85348452032106\n"
          ]
        }
      ],
      "source": [
        "lr = LogisticRegression(C=1000.0, random_state=0, max_iter=1000)\n",
        "lr.fit(X_train_std, y_train.ravel())\n",
        "y_pred_lr = lr.predict(X_test_std)\n",
        "\n",
        "print(\"Accuracy :\", accuracy_score(y_test, y_pred_lr))"
      ]
    },
    {
      "cell_type": "markdown",
      "id": "verbal-ordering",
      "metadata": {
        "id": "verbal-ordering"
      },
      "source": [
        "Great! Let's try applying SVM instead. Try using `SVC()` below, then use the same prediction and output methods as the above cell."
      ]
    },
    {
      "cell_type": "code",
      "execution_count": 13,
      "id": "monetary-ottawa",
      "metadata": {
        "colab": {
          "base_uri": "https://localhost:8080/"
        },
        "id": "monetary-ottawa",
        "outputId": "832ca5f8-5bda-44c7-e9f0-4e22f27f267f"
      },
      "outputs": [
        {
          "output_type": "stream",
          "name": "stdout",
          "text": [
            "Accuracy: 0.8662431974955863\n"
          ]
        }
      ],
      "source": [
        "svm = SVC(kernel='linear', C=1.0, random_state=0, cache_size=7000)\n",
        "svm.fit(X_train_std, y_train.ravel())\n",
        "y_pred_svm = svm.predict(X_test_std)\n",
        "\n",
        "print(f'Accuracy: {accuracy_score(y_test, y_pred_svm)}')"
      ]
    },
    {
      "cell_type": "markdown",
      "id": "respective-little",
      "metadata": {
        "id": "respective-little"
      },
      "source": [
        "Let's try using a KNeightbors Classifier. We can call the `KNeighborsClassifier()` function, and supply 2 parameters: `n_neighbors=5` and `matric='euclidean`. Once you run this method, display the accuracy of your model as you did in the above cells."
      ]
    },
    {
      "cell_type": "code",
      "execution_count": 14,
      "id": "secret-notice",
      "metadata": {
        "colab": {
          "base_uri": "https://localhost:8080/"
        },
        "id": "secret-notice",
        "outputId": "907ad449-3e80-4dc5-f13a-3073907fabdf"
      },
      "outputs": [
        {
          "output_type": "stream",
          "name": "stdout",
          "text": [
            "Accuracy: 0.8586535136414102\n"
          ]
        }
      ],
      "source": [
        "knn = KNeighborsClassifier(n_neighbors=5, metric='euclidean')\n",
        "knn.fit(X_train_std, y_train.ravel())\n",
        "y_pred_knn = knn.predict(X_test_std)\n",
        "\n",
        "print(\"Accuracy:\", accuracy_score(y_test, y_pred_knn))"
      ]
    },
    {
      "cell_type": "markdown",
      "id": "93b43ca7",
      "metadata": {
        "id": "93b43ca7"
      },
      "source": [
        "let's repeat the above steps agian with gk_kicking and gk_handling."
      ]
    },
    {
      "cell_type": "code",
      "execution_count": 15,
      "id": "b2d3c83c",
      "metadata": {
        "colab": {
          "base_uri": "https://localhost:8080/"
        },
        "id": "b2d3c83c",
        "outputId": "1408d31e-b229-4197-d0f5-20aa20f015ef"
      },
      "outputs": [
        {
          "output_type": "stream",
          "name": "stdout",
          "text": [
            "Class 1    142652\n",
            "Class 4     21334\n",
            "Class 3     14026\n",
            "Class 2      3118\n",
            "Class 5      2012\n",
            "Name: count, dtype: int64\n"
          ]
        },
        {
          "output_type": "stream",
          "name": "stderr",
          "text": [
            "<ipython-input-15-7ac97c6fc953>:9: FutureWarning: pandas.value_counts is deprecated and will be removed in a future version. Use pd.Series(obj).value_counts() instead.\n",
            "  print(pd.value_counts(y_part2))\n"
          ]
        }
      ],
      "source": [
        "# Feature: use gk_handling\n",
        "X_part2 = player_attr_df[['gk_handling']].values\n",
        "\n",
        "# Target: discretize gk_kicking into 5 classes\n",
        "y_part2 = pd.cut(player_attr_df['gk_kicking'],\n",
        "                 bins=5,\n",
        "                 labels=['Class 1', 'Class 2', 'Class 3', 'Class 4', 'Class 5']).values\n",
        "\n",
        "print(pd.value_counts(y_part2))"
      ]
    },
    {
      "cell_type": "code",
      "source": [
        "X_train2, X_test2, y_train2, y_test2 = train_test_split(X_part2, y_part2,\n",
        "                                                        test_size=0.3,\n",
        "                                                        random_state=0)\n",
        "\n",
        "sc2 = StandardScaler()\n",
        "X_train2_std = sc2.fit_transform(X_train2)\n",
        "X_test2_std = sc2.transform(X_test2)"
      ],
      "metadata": {
        "id": "NWBHESxQc9XC"
      },
      "id": "NWBHESxQc9XC",
      "execution_count": 16,
      "outputs": []
    },
    {
      "cell_type": "code",
      "source": [
        "lr2 = LogisticRegression(C=1000.0, random_state=0, max_iter=1000)\n",
        "lr2.fit(X_train2_std, y_train2.ravel())\n",
        "y_pred_lr2 = lr2.predict(X_test2_std)\n",
        "\n",
        "print(\"Accuracy:\", accuracy_score(y_test2, y_pred_lr2))"
      ],
      "metadata": {
        "id": "T_rFDKL7dBik",
        "outputId": "7e2aeec5-a027-44ef-cb55-99ee7c666d10",
        "colab": {
          "base_uri": "https://localhost:8080/"
        }
      },
      "id": "T_rFDKL7dBik",
      "execution_count": 17,
      "outputs": [
        {
          "output_type": "stream",
          "name": "stdout",
          "text": [
            "Accuracy: 0.8844984802431611\n"
          ]
        }
      ]
    },
    {
      "cell_type": "code",
      "source": [
        "svm2 = SVC(kernel='linear', C=1.0, random_state=0, cache_size=7000)\n",
        "svm2.fit(X_train2_std, y_train2.ravel())\n",
        "y_pred_svm2 = svm2.predict(X_test2_std)\n",
        "\n",
        "print(\"Accuracy:\", accuracy_score(y_test2, y_pred_svm2))"
      ],
      "metadata": {
        "id": "CysCApHVdGeF",
        "outputId": "9ff4d555-8c74-4e23-afdc-5feeb833b52e",
        "colab": {
          "base_uri": "https://localhost:8080/"
        }
      },
      "id": "CysCApHVdGeF",
      "execution_count": 18,
      "outputs": [
        {
          "output_type": "stream",
          "name": "stdout",
          "text": [
            "Accuracy: 0.8857361265311323\n"
          ]
        }
      ]
    },
    {
      "cell_type": "code",
      "source": [
        "knn2 = KNeighborsClassifier(n_neighbors=5, metric='euclidean')\n",
        "knn2.fit(X_train2_std, y_train2.ravel())\n",
        "y_pred_knn2 = knn2.predict(X_test2_std)\n",
        "\n",
        "print(\"Accuracy: \", accuracy_score(y_test2, y_pred_knn2))"
      ],
      "metadata": {
        "id": "zsjmWqZDdSId",
        "outputId": "f8fbc2c1-64d5-4dd9-94ca-964e08db3a36",
        "colab": {
          "base_uri": "https://localhost:8080/"
        }
      },
      "id": "zsjmWqZDdSId",
      "execution_count": 19,
      "outputs": [
        {
          "output_type": "stream",
          "name": "stdout",
          "text": [
            "Accuracy:  0.8857725278925431\n"
          ]
        }
      ]
    },
    {
      "cell_type": "markdown",
      "id": "muslim-price",
      "metadata": {
        "id": "muslim-price"
      },
      "source": [
        "Lastly, in the cell below, answer the question:\n",
        "Since this assignment (Classification) and the previous assignment (Regression) are with the same data, can you compare and conclude which technique is yielding best results?"
      ]
    },
    {
      "cell_type": "code",
      "execution_count": null,
      "id": "referenced-satisfaction",
      "metadata": {
        "id": "referenced-satisfaction"
      },
      "outputs": [],
      "source": [
        "\"\"\"\n",
        "The regression results (R² ≈ 0.93) show that nearly 93% of the variance in gk_handling is explained by gk_reflexes,\n",
        "indicating a strong continuous relationship. This model preserves the detail in the data and predicts with high accuracy.\n",
        "\n",
        "In contrast, when the attributes are discretized into five classes for classification, significant granularity is lost,\n",
        "and performance drops because the models must predict across broader, arbitrary class boundaries. In this scenario,\n",
        "regression is clearly the more effective technique.\n",
        "\"\"\""
      ]
    }
  ],
  "metadata": {
    "kernelspec": {
      "display_name": "Python 3 (ipykernel)",
      "language": "python",
      "name": "python3"
    },
    "language_info": {
      "codemirror_mode": {
        "name": "ipython",
        "version": 3
      },
      "file_extension": ".py",
      "mimetype": "text/x-python",
      "name": "python",
      "nbconvert_exporter": "python",
      "pygments_lexer": "ipython3",
      "version": "3.9.13"
    },
    "colab": {
      "provenance": []
    }
  },
  "nbformat": 4,
  "nbformat_minor": 5
}